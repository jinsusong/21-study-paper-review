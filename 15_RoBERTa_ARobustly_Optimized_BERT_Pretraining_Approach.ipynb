{
  "nbformat": 4,
  "nbformat_minor": 0,
  "metadata": {
    "colab": {
      "name": "15 RoBERTa: ARobustly Optimized BERT Pretraining Approach.ipynb",
      "private_outputs": true,
      "provenance": [],
      "authorship_tag": "ABX9TyNimrKIPUTPSNnvDMz4fUkm",
      "include_colab_link": true
    },
    "kernelspec": {
      "name": "python3",
      "display_name": "Python 3"
    },
    "language_info": {
      "name": "python"
    }
  },
  "cells": [
    {
      "cell_type": "markdown",
      "metadata": {
        "id": "view-in-github",
        "colab_type": "text"
      },
      "source": [
        "<a href=\"https://colab.research.google.com/github/jinsusong/study-paper-review/blob/main/15_RoBERTa_ARobustly_Optimized_BERT_Pretraining_Approach.ipynb\" target=\"_parent\"><img src=\"https://colab.research.google.com/assets/colab-badge.svg\" alt=\"Open In Colab\"/></a>"
      ]
    },
    {
      "cell_type": "markdown",
      "source": [
        "# RoBERTa: ARobustly Optimized BERT Pretraining Approach"
      ],
      "metadata": {
        "id": "HKqq6PrUU-g9"
      }
    },
    {
      "cell_type": "code",
      "source": [
        ""
      ],
      "metadata": {
        "id": "t_uDt7qgVEEm"
      },
      "execution_count": null,
      "outputs": []
    }
  ]
}